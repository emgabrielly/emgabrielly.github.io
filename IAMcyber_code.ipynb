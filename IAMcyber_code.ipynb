{
  "nbformat": 4,
  "nbformat_minor": 0,
  "metadata": {
    "colab": {
      "name": "IAMcyber_code.ipynb",
      "provenance": [],
      "authorship_tag": "ABX9TyP9IDluh5JE8j2X14fx9uFd",
      "include_colab_link": true
    },
    "kernelspec": {
      "name": "python3",
      "display_name": "Python 3"
    },
    "language_info": {
      "name": "python"
    }
  },
  "cells": [
    {
      "cell_type": "markdown",
      "metadata": {
        "id": "view-in-github",
        "colab_type": "text"
      },
      "source": [
        "<a href=\"https://colab.research.google.com/github/emgabrielly/emgabrielly.github.io/blob/main/IAMcyber_code.ipynb\" target=\"_parent\"><img src=\"https://colab.research.google.com/assets/colab-badge.svg\" alt=\"Open In Colab\"/></a>"
      ]
    },
    {
      "cell_type": "code",
      "source": [
        "!pip install -q streamlit"
      ],
      "metadata": {
        "id": "7ZnpQT5Bwnph"
      },
      "execution_count": 16,
      "outputs": []
    },
    {
      "cell_type": "code",
      "source": [
        "!pip install -q streamlit-ace\n",
        "!pip install -q pyngrok\n",
        "!pip install -q fuzzywuzzy[speedup]\n",
        "!streamlit run app.py &>/dev/null&"
      ],
      "metadata": {
        "id": "ffUEA-5awo5m"
      },
      "execution_count": 17,
      "outputs": []
    },
    {
      "cell_type": "code",
      "source": [
        "%%writefile app.py\n",
        "import streamlit as st\n",
        "import requests as r\n",
        "import json\n",
        "from fuzzywuzzy import process\n",
        "import re\n",
        "\n",
        "def getName(name):\n",
        "    listInterpol = r.get('https://cspinheiro.github.io/interpol.json')\n",
        "    search_list = process.extract(name, listInterpol)\n",
        "    result = []\n",
        "    for name in search_list:\n",
        "        if name[1] > 80:\n",
        "            result.append(name)\n",
        "    if len(result) != 0:\n",
        "        return True\n",
        "\n",
        "\n",
        "def getPassport(IdentifyCode):\n",
        "    # Criando discionário para a api\n",
        "    prt = r.get('https://0verthrive.github.io/prt.json')\n",
        "    dict_prt = prt.json()['prt']\n",
        "\n",
        "    # Definindo padrão para comparar\n",
        "    identity = r\"^(\\w{3,3})\\s?(\\d{9,9})$\"\n",
        "\n",
        "    # Comparando o padrão com a entrada do usuário\n",
        "    match = re.search(identity, IdentifyCode)\n",
        "\n",
        "    # Percorrendo o dicionário\n",
        "    if match.group(1) == 'prt':\n",
        "        for item in dict_prt:\n",
        "            for value in item.values():\n",
        "                if str(match.group(2)) == str(value):\n",
        "                    return True\n",
        "\n",
        "\n",
        "def main():\n",
        "    html_temp = \"\"\"\n",
        "    <body style=\"background-color:black\">\n",
        "    <div style =\"background-color:#0000FF;padding:13px\"> \n",
        "    <h1 style =\"color:white;text-align:center;\">UE-SIS</h1> \n",
        "    </div>\n",
        "    <br/>\n",
        "    </body> \n",
        "    \"\"\"\n",
        "    st.markdown(html_temp, unsafe_allow_html=True)\n",
        "\n",
        "\n",
        "    codigo_id = st.text_input('Código de Acesso:')\n",
        "    passengerName = st.text_input('Senha Eletrônica:')\n",
        "    if st.button(\"Acessar\"):\n",
        "        if (getPassport(codigo_id)):\n",
        "            return st.warning(\"Solicitação negada. O usuário não pode acessar a conta\")\n",
        "        else:\n",
        "            return st.success(\"Pode Acessar a conta\")\n",
        "\n",
        "\n",
        "if __name__ == '__main__':\n",
        "    main()"
      ],
      "metadata": {
        "colab": {
          "base_uri": "https://localhost:8080/"
        },
        "id": "5lKMisT602w0",
        "outputId": "6e0bff7d-b2bd-40fd-a432-4c2418e28720"
      },
      "execution_count": 19,
      "outputs": [
        {
          "output_type": "stream",
          "name": "stdout",
          "text": [
            "Overwriting app.py\n"
          ]
        }
      ]
    },
    {
      "cell_type": "code",
      "source": [
        "!streamlit run app.py & npx localtunnel --port 8501"
      ],
      "metadata": {
        "id": "PlmE47Iuwxj1",
        "colab": {
          "base_uri": "https://localhost:8080/"
        },
        "outputId": "0533042c-18b5-4cde-dacc-ed205b523002"
      },
      "execution_count": null,
      "outputs": [
        {
          "output_type": "stream",
          "name": "stdout",
          "text": [
            "2022-05-15 00:13:56.981 INFO    numexpr.utils: NumExpr defaulting to 2 threads.\n",
            "\u001b[K\u001b[?25hnpx: installed 22 in 2.246s\n",
            "\u001b[0m\n",
            "\u001b[34m\u001b[1m  You can now view your Streamlit app in your browser.\u001b[0m\n",
            "\u001b[0m\n",
            "\u001b[34m  Network URL: \u001b[0m\u001b[1mhttp://172.28.0.2:8502\u001b[0m\n",
            "\u001b[34m  External URL: \u001b[0m\u001b[1mhttp://34.91.17.54:8502\u001b[0m\n",
            "\u001b[0m\n",
            "your url is: https://weak-chefs-lay-34-91-17-54.loca.lt\n"
          ]
        }
      ]
    }
  ]
}