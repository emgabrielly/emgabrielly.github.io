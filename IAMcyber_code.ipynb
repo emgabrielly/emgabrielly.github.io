{
  "nbformat": 4,
  "nbformat_minor": 0,
  "metadata": {
    "colab": {
      "name": "IAMcyber_code.ipynb",
      "provenance": [],
      "include_colab_link": true
    },
    "kernelspec": {
      "name": "python3",
      "display_name": "Python 3"
    },
    "language_info": {
      "name": "python"
    }
  },
  "cells": [
    {
      "cell_type": "markdown",
      "metadata": {
        "id": "view-in-github",
        "colab_type": "text"
      },
      "source": [
        "<a href=\"https://colab.research.google.com/github/emgabrielly/emgabrielly.github.io/blob/main/IAMcyber_code.ipynb\" target=\"_parent\"><img src=\"https://colab.research.google.com/assets/colab-badge.svg\" alt=\"Open In Colab\"/></a>"
      ]
    },
    {
      "cell_type": "code",
      "source": [
        "!pip install -q streamlit"
      ],
      "metadata": {
        "id": "7ZnpQT5Bwnph"
      },
      "execution_count": 38,
      "outputs": []
    },
    {
      "cell_type": "code",
      "source": [
        "!pip install -q streamlit-ace\n",
        "!pip install -q pyngrok\n",
        "!pip install -q fuzzywuzzy[speedup]\n",
        "!streamlit run app.py &>/dev/null&"
      ],
      "metadata": {
        "id": "ffUEA-5awo5m"
      },
      "execution_count": 39,
      "outputs": []
    },
    {
      "cell_type": "code",
      "source": [
        "import requests as r\n",
        "import json\n",
        "from fuzzywuzzy import process\n",
        "import re\n",
        "\n",
        "def getFiltroCliente(codigoAcesso):\n",
        "  # id = código de acesso do cliente\n",
        "    id = r.get('https://emgabrielly.github.io/bases/falecidos.json')\n",
        "  # Transformando em dicionário\n",
        "    dict_id = id.json()['id']\n",
        "\n",
        "  # Verifica se está no formato desejado\n",
        "    padrao = r\"^(\\d{5,5})$\"\n",
        "    match = re.search(padrao, codigoAcesso)\n",
        "    print(match.group(1))\n",
        "    for item in dict_id:\n",
        "       for value in item.values():\n",
        "          if str(match.group(1)) == str(value):\n",
        "                    return True"
      ],
      "metadata": {
        "id": "Dh_CRpALOBRQ"
      },
      "execution_count": 41,
      "outputs": []
    },
    {
      "cell_type": "code",
      "source": [
        "%%writefile app.py\n",
        "import streamlit as st\n",
        "import requests\n",
        "import json\n",
        "from fuzzywuzzy import process\n",
        "import re\n",
        "\n",
        "#acessando a API\n",
        "def getFiltroCliente(codigoAcesso):\n",
        "  # id = código de acesso do cliente\n",
        "    id = requests.get('https://emgabrielly.github.io/bases/falecidos.json')\n",
        "  # Transformando em dicionário\n",
        "    dict_id = id.json()['id']\n",
        "\n",
        "  # Verifica se está no formato desejado\n",
        "    padrao = r\"^(\\d{5,5})$\"\n",
        "    match = re.search(padrao, codigoAcesso)\n",
        "    for item in dict_id:\n",
        "       for value in item.values():\n",
        "          if str(match.group(1)) == str(value):\n",
        "                    return True\n",
        "\n",
        "#Criando a webpage:\n",
        "def main():\n",
        "    html_temp = \"\"\"\n",
        "    <body style=\"background-color:black\">\n",
        "    <div style =\"background-image:linear-gradient(to right,#33ccff,pink);padding:13;border-radius:25px;\"> \n",
        "    <h1 style =\"color:white;text-align:center;\">BANCO IAM</h1> \n",
        "    </div>\n",
        "    <br/>\n",
        "    </body> \n",
        "    \"\"\"\n",
        "    st.markdown(html_temp, unsafe_allow_html=True)\n",
        "\n",
        "\n",
        "    codigo_id = st.text_input('Código de Acesso:')\n",
        "    if st.button(\"Acessar\"):\n",
        "        if (getFiltroCliente(codigo_id)):\n",
        "            return st.warning(\"Solicitação negada. O usuário não pode acessar a conta\")\n",
        "        else:\n",
        "            return st.success(\"Pode Acessar a conta\")\n",
        "\n",
        "\n",
        "if __name__ == '__main__':\n",
        "    main()"
      ],
      "metadata": {
        "colab": {
          "base_uri": "https://localhost:8080/"
        },
        "id": "5lKMisT602w0",
        "outputId": "cbcb5df4-46ea-4b09-ad7d-4fc8a961f8f3"
      },
      "execution_count": 44,
      "outputs": [
        {
          "output_type": "stream",
          "name": "stdout",
          "text": [
            "Overwriting app.py\n"
          ]
        }
      ]
    },
    {
      "cell_type": "code",
      "source": [
        "!streamlit run app.py & npx localtunnel --port 8501"
      ],
      "metadata": {
        "id": "PlmE47Iuwxj1",
        "colab": {
          "base_uri": "https://localhost:8080/"
        },
        "outputId": "e7ca972a-2299-49ca-e260-444842b5e37a"
      },
      "execution_count": 45,
      "outputs": [
        {
          "output_type": "stream",
          "name": "stdout",
          "text": [
            "2022-05-15 01:30:41.454 INFO    numexpr.utils: NumExpr defaulting to 2 threads.\n",
            "\u001b[0m\n",
            "\u001b[34m\u001b[1m  You can now view your Streamlit app in your browser.\u001b[0m\n",
            "\u001b[0m\n",
            "\u001b[34m  Network URL: \u001b[0m\u001b[1mhttp://172.28.0.2:8501\u001b[0m\n",
            "\u001b[34m  External URL: \u001b[0m\u001b[1mhttp://34.91.17.54:8501\u001b[0m\n",
            "\u001b[0m\n",
            "\u001b[K\u001b[?25hnpx: installed 22 in 2.668s\n",
            "your url is: https://shaky-sides-sin-34-91-17-54.loca.lt\n",
            "2022-05-15 01:31:53.949 Traceback (most recent call last):\n",
            "  File \"/usr/local/lib/python3.7/dist-packages/streamlit/scriptrunner/script_runner.py\", line 475, in _run_script\n",
            "    exec(code, module.__dict__)\n",
            "  File \"/content/app.py\", line 44, in <module>\n",
            "    main()\n",
            "  File \"/content/app.py\", line 37, in main\n",
            "    if (getFiltroCliente(codigo_id)):\n",
            "  File \"/content/app.py\", line 19, in getFiltroCliente\n",
            "    if str(match.group(1)) == str(value):\n",
            "AttributeError: 'NoneType' object has no attribute 'group'\n",
            "\n",
            "\u001b[34m  Stopping...\u001b[0m\n",
            "^C\n"
          ]
        }
      ]
    }
  ]
}