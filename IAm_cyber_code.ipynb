{
  "nbformat": 4,
  "nbformat_minor": 0,
  "metadata": {
    "colab": {
      "name": "IAm_cyber_code.ipynb",
      "provenance": [],
      "include_colab_link": true
    },
    "kernelspec": {
      "name": "python3",
      "display_name": "Python 3"
    },
    "language_info": {
      "name": "python"
    }
  },
  "cells": [
    {
      "cell_type": "markdown",
      "metadata": {
        "id": "view-in-github",
        "colab_type": "text"
      },
      "source": [
        "<a href=\"https://colab.research.google.com/github/emgabrielly/emgabrielly.github.io/blob/main/IAm_cyber_code.ipynb\" target=\"_parent\"><img src=\"https://colab.research.google.com/assets/colab-badge.svg\" alt=\"Open In Colab\"/></a>"
      ]
    },
    {
      "cell_type": "code",
      "source": [
        "!pip install -q streamlit"
      ],
      "metadata": {
        "id": "7ZnpQT5Bwnph"
      },
      "execution_count": 8,
      "outputs": []
    },
    {
      "cell_type": "code",
      "source": [
        "!pip install -q streamlit-ace\n",
        "!pip install -q pyngrok\n",
        "!pip install -q fuzzywuzzy[speedup]\n",
        "!streamlit run app.py &>/dev/null&"
      ],
      "metadata": {
        "id": "ffUEA-5awo5m"
      },
      "execution_count": 9,
      "outputs": []
    },
    {
      "cell_type": "code",
      "source": [
        "%%writefile app.py\n",
        "import streamlit as st\n",
        "import requests\n",
        "import json\n",
        "import re\n",
        "\n",
        "def getFiltroCliente(codigoAcesso):\n",
        "  # id = código de acesso do cliente\n",
        "    fraudados = requests.get('https://0verthrive.github.io/fraudadores.json')\n",
        "    cancelados = requests.get('https://0verthrive.github.io/cancelados.json')\n",
        "    furtados = requests.get('https://0verthrive.github.io/furtados.json')\n",
        "    falecidos = requests.get('https://emgabrielly.github.io/bases/falecidos.json')\n",
        " \n",
        " # Transformando em dicionário\n",
        " \n",
        "    dict_fraud = fraudados.json()['fraudadores']\n",
        "    dict_furt = furtados.json()['furtado']\n",
        "    dict_canc = cancelados.json()['cancelados']\n",
        "    dict_fale = falecidos.json()['id']\n",
        "\n",
        "    list_apis = [dict_fraud, dict_furt, dict_canc, dict_fale]\n",
        "    \n",
        "  # Verifica se está no formato desejado\n",
        "    padrao = r\"^(\\d{5,5})$\"\n",
        "    match = re.search(padrao, codigoAcesso)\n",
        "\n",
        "    for item in list_apis:\n",
        "      for dicio in item:\n",
        "        for valor in dicio.values():\n",
        "          if str(match.group(1)) == str(valor):\n",
        "            return True\n",
        "\n",
        "#Criando a webpage:\n",
        "def main():\n",
        "    html_temp = \"\"\"\n",
        "      <body style=\"background-color:black\">\n",
        "      <div style =\"background-image:linear-gradient(to right,#33ccff,pink);padding:13;border-radius:25px;\"> \n",
        "      <h1 style =\"color:white;text-align:center;\">BANCO IAM</h1> \n",
        "      </div>\n",
        "      <br/>\n",
        "      </body> \n",
        "      \"\"\"\n",
        "    \n",
        "    st.markdown(html_temp, unsafe_allow_html=True)\n",
        "\n",
        "\n",
        "    codigo_id = st.text_input('Código de Acesso:')\n",
        "    if st.button(\"Acessar\"):\n",
        "      if (getFiltroCliente(codigo_id)):\n",
        "        return st.warning(\"Solicitação negada. O usuário não pode acessar a conta\")\n",
        "      else:\n",
        "        return st.success(\"Pode Acessar a conta\")\n",
        "\n",
        "\n",
        "if __name__== '_main_':\n",
        "    main()"
      ],
      "metadata": {
        "colab": {
          "base_uri": "https://localhost:8080/"
        },
        "id": "5lKMisT602w0",
        "outputId": "ac4e944d-47a2-4cef-a3a5-5006a2e6a705"
      },
      "execution_count": 10,
      "outputs": [
        {
          "output_type": "stream",
          "name": "stdout",
          "text": [
            "Overwriting app.py\n"
          ]
        }
      ]
    },
    {
      "cell_type": "code",
      "source": [
        "!streamlit run app.py & npx localtunnel --port 8501"
      ],
      "metadata": {
        "id": "PlmE47Iuwxj1"
      },
      "execution_count": null,
      "outputs": []
    }
  ]
}