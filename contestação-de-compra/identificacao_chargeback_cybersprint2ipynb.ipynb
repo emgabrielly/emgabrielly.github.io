{
  "nbformat": 4,
  "nbformat_minor": 0,
  "metadata": {
    "colab": {
      "name": "identificacao-chargeback-cybersprint2ipynb",
      "provenance": [],
      "authorship_tag": "ABX9TyPsEzrNRu2Pmo0DAWT7cnN7",
      "include_colab_link": true
    },
    "kernelspec": {
      "name": "python3",
      "display_name": "Python 3"
    },
    "language_info": {
      "name": "python"
    }
  },
  "cells": [
    {
      "cell_type": "markdown",
      "metadata": {
        "id": "view-in-github",
        "colab_type": "text"
      },
      "source": [
        "<a href=\"https://colab.research.google.com/github/emgabrielly/emgabrielly.github.io/blob/main/identificacao_chargeback_cybersprint2ipynb.ipynb\" target=\"_parent\"><img src=\"https://colab.research.google.com/assets/colab-badge.svg\" alt=\"Open In Colab\"/></a>"
      ]
    },
    {
      "cell_type": "markdown",
      "source": [
        "Instalando os recursos que serão utilizados"
      ],
      "metadata": {
        "id": "hEyL_wWl_s14"
      }
    },
    {
      "cell_type": "code",
      "execution_count": null,
      "metadata": {
        "id": "ka-JUYQF-9v7"
      },
      "outputs": [],
      "source": [
        "!pip install -q streamlit"
      ]
    },
    {
      "cell_type": "code",
      "source": [
        "#terminando de instalar os recursos\n",
        "!pip install -q streamlit-ace\n",
        "!pip install -q pyngrok\n",
        "!pip install -q fuzzywuzzy[speedup]\n",
        "!streamlit run app.py &>/dev/null&"
      ],
      "metadata": {
        "id": "JTl_vkvu_09a"
      },
      "execution_count": 5,
      "outputs": []
    },
    {
      "cell_type": "markdown",
      "source": [
        "Criando o simulador"
      ],
      "metadata": {
        "id": "-giCQU_wAS4Z"
      }
    },
    {
      "cell_type": "markdown",
      "source": [
        "solução para o problema apresentado: \n",
        "A empresa que é responsável pela entrega do produto, deve codificar se o produto foi entregue a partir da localização e assim constar na base que verifica esse procedimento. "
      ],
      "metadata": {
        "id": "jaQeKM7cYsH-"
      }
    },
    {
      "cell_type": "code",
      "source": [
        "%%writefile app.py\n",
        "#aqui importamos os recursos que utilizares para fazer a função funcionar apropriadamente\n",
        "from pyngrok import ngrok\n",
        "import streamlit as st\n",
        "import requests as r\n",
        "import json\n",
        "from fuzzywuzzy import process\n",
        "import re\n",
        "\n",
        "#importando os datasets utilizados, serão 4, reaproveitados do ultimo projeto, porem com o mesmo intuito\n",
        "nao_reconhecida = r.get(\"https://emgabrielly.github.io/bases/cancelados.json\")\n",
        "fraudes = r.get(\"https://emgabrielly.github.io/bases/fraudes.json\")\n",
        "nao_recebeu = r.get(\"https://emgabrielly.github.io/bases/falecidos.json\")\n",
        "compra_cancelada = r.get(\"https://emgabrielly.github.io/bases/furtos.json\")\n",
        "\n",
        "#criando a função de verificação, onde colocamos o requisito de o input começar com \"id\" separado em string\n",
        "#para receber separadamente cada possível resultado a partir das APIs\n",
        "#a partir do texto e número, a compra recebe um \"nome\" como resultado, será utilizado para a verificação de sua localização em qual API depois\n",
        "\n",
        "#em caso de ser uma compra não realizada pelo títular\n",
        "def idNaocompra(id):\n",
        "  idS = re.search(\"[\\D]{2}\", id.lower())\n",
        "  idnumero = re.search(\"(?i)(\\d+)\", id.lower())\n",
        "  textoid = str(idS[0])\n",
        "  \n",
        "  if textoid and idnumero:\n",
        "    ids = nao_reconhecida.json()[textoid]\n",
        "    for i in ids:\n",
        "      for value in i.values():\n",
        "        if str(id) == str(textoid) + str(value):\n",
        "          return \"final: nao compra\"\n",
        "  return \"final: compra\"\n",
        "\n",
        "\n",
        "#Em caso de ser um id Fraude tanto da loja quanto do cliente (autofraude)\n",
        "def idFraude(id):\n",
        "  idS = re.search(\"[\\D]{2}\", id.lower())\n",
        "  idnumero = re.search(\"(?i)(\\d+)\", id.lower())\n",
        "  textoid = str(idS[0])\n",
        "\n",
        "  if textoid and idnumero:\n",
        "    ids = fraudes.json()[textoid]\n",
        "    for i in ids:\n",
        "      for value in i.values():\n",
        "        if str(id) == str(textoid) + str(value):\n",
        "          return \"final: fraude\"\n",
        "  return \"final: nao fraude\"\n",
        "\n",
        "#Um id de compra não recebida pelo cliente\n",
        "def idNaorecebeu(id):\n",
        "  idS = re.search(\"[\\D]{2}\", id.lower())\n",
        "  idnumero = re.search(\"(?i)(\\d+)\", id.lower())\n",
        "  textoid = str(idS[0])\n",
        "\n",
        "  if textoid and idnumero:\n",
        "    ids = nao_recebeu.json()[textoid]\n",
        "    for i in ids:\n",
        "      for value in i.values():\n",
        "        if str(id) == str(textoid) + str(value):\n",
        "          return \"final: compra nao recebida\"\n",
        "  return \"final: compra recebida\"\n",
        "\n",
        "#id de uma compra cancelada pelo comprador\n",
        "def IdCancelada(id):\n",
        "  idS = re.search(\"[\\D]{2}\", id.lower())\n",
        "  idnumero = re.search(\"(?i)(\\d+)\", id.lower())\n",
        "  textoid = str(idS[0])\n",
        "\n",
        "  if textoid and idnumero:\n",
        "    ids = compra_cancelada.json()[textoid]\n",
        "    for i in ids:\n",
        "      for value in i.values():\n",
        "        if str(id) == str(textoid) + str(value):\n",
        "          return \"final: compra cancelada\"\n",
        "  return \"sem cancelamento\"\n",
        "\n",
        "#função que pega as id's das bases e a coloca em seu grupo separado\n",
        "def verificar(id):\n",
        "  naocompra = idNaocompra(id)\n",
        "  fraude = idFraude(id)\n",
        "  naorecebeu = idNaorecebeu(id)\n",
        "  cancelada = IdCancelada(id)\n",
        "\n",
        "  #Aqui, verificamos se o id está dentro de qual API, para retornar um resultado diferente em cada situação. \n",
        "  if naocompra == \"final: nao compra\":\n",
        "    return st.error(\"Contestação de Compra Identificada.\\nEstá compra consta como uma Compra não identificada pelo títular.\")\n",
        "\n",
        "  elif fraude == \"final: fraude\":\n",
        "    return st.error(\"Contestação de Compra Identificada\\nEstá compra consta como uma Autofraude ou uma fraude de terceiros.\")\n",
        "\n",
        "  elif naorecebeu == \"final: compra nao recebida\":\n",
        "    return st.error(\"Contestação de Compra Identificada\\nEstá compra consta como Não recebida pelo cliente.\")\n",
        "\n",
        "  elif cancelada == \"final: compra cancelada\":\n",
        "    return st.error(\"Contestação de Compra Identificada\\nEstá compra consta como uma Compra Cancelada.\")\n",
        "\n",
        "  #em caso de o id não encontrar-se em nenhuma das bases, o resultado a ser exibido será:\n",
        "  return st.success(\"A compra continua em andamento.\\nNão há contestações.\")\n",
        "\n",
        "\n",
        "#função principal para a página\n",
        "def main():\n",
        "  #page config\n",
        "  st.set_page_config(\n",
        "      page_title=\"Identificação de Contestação de Compra\",\n",
        "      layout=\"centered\",\n",
        "      initial_sidebar_state=\"expanded\"\n",
        "          )\n",
        "\n",
        "  #os títulos e subtítulos da página com um exemplo de uso\n",
        "  st.title(\"Mitigação de Fraude\")\n",
        "  st.subheader(\"Digite o ID da compra abaixo.\")\n",
        "  st.subheader(\"Exemplo: id10395\")\n",
        "\n",
        "  #formulário que recebe o id e o botão que submete a verificação\n",
        "  form = st.form(key=\"form\")\n",
        "  with form:\n",
        "    idNumber = st.text_input(\"ID Compra:\")\n",
        "    submit = st.form_submit_button(label=\"Verificar\")\n",
        "\n",
        "  #verificando a digitação do usuário\n",
        "  if submit:\n",
        "    if not idNumber:\n",
        "      st.warning(\"Por favor digite o ID da compra.\")\n",
        "    else:\n",
        "      try:\n",
        "        verificar(idNumber)\n",
        "      except:\n",
        "        st.warning(\"Por favor, digite o ID corretamente. Desta forma: id00098\")\n",
        "\n",
        "#chmando a função principal     \n",
        "if __name__ == \"__main__\":\n",
        "  main()"
      ],
      "metadata": {
        "colab": {
          "base_uri": "https://localhost:8080/"
        },
        "id": "fI2LFXC6AMT0",
        "outputId": "7c006828-b320-4748-b303-61e3949358ab"
      },
      "execution_count": 40,
      "outputs": [
        {
          "output_type": "stream",
          "name": "stdout",
          "text": [
            "Overwriting app.py\n"
          ]
        }
      ]
    },
    {
      "cell_type": "code",
      "source": [
        "!streamlit run app.py & npx localtunnel --port 8501"
      ],
      "metadata": {
        "colab": {
          "base_uri": "https://localhost:8080/"
        },
        "id": "qN-i51LrAuKw",
        "outputId": "a0731d7f-5b93-41a0-8b12-ad1779968c15"
      },
      "execution_count": 41,
      "outputs": [
        {
          "output_type": "stream",
          "name": "stdout",
          "text": [
            "2022-06-17 16:38:59.716 INFO    numexpr.utils: NumExpr defaulting to 2 threads.\n",
            "\u001b[0m\n",
            "\u001b[34m\u001b[1m  You can now view your Streamlit app in your browser.\u001b[0m\n",
            "\u001b[0m\n",
            "\u001b[34m  Network URL: \u001b[0m\u001b[1mhttp://172.28.0.2:8501\u001b[0m\n",
            "\u001b[34m  External URL: \u001b[0m\u001b[1mhttp://34.125.161.36:8501\u001b[0m\n",
            "\u001b[0m\n",
            "\u001b[K\u001b[?25hnpx: installed 22 in 3.066s\n",
            "your url is: https://tiny-foxes-shine-34-125-161-36.loca.lt\n",
            "\u001b[34m  Stopping...\u001b[0m\n",
            "^C\n"
          ]
        }
      ]
    }
  ]
}
