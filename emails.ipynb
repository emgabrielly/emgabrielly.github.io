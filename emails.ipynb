{
  "nbformat": 4,
  "nbformat_minor": 0,
  "metadata": {
    "colab": {
      "name": "emails.ipynb",
      "provenance": [],
      "authorship_tag": "ABX9TyN13L297OX59V8O31Ge78E4",
      "include_colab_link": true
    },
    "kernelspec": {
      "name": "python3",
      "display_name": "Python 3"
    },
    "language_info": {
      "name": "python"
    }
  },
  "cells": [
    {
      "cell_type": "markdown",
      "metadata": {
        "id": "view-in-github",
        "colab_type": "text"
      },
      "source": [
        "<a href=\"https://colab.research.google.com/github/emgabrielly/emgabrielly.github.io/blob/main/emails.ipynb\" target=\"_parent\"><img src=\"https://colab.research.google.com/assets/colab-badge.svg\" alt=\"Open In Colab\"/></a>"
      ]
    },
    {
      "cell_type": "code",
      "execution_count": 17,
      "metadata": {
        "id": "q6u42kLLA2Fu"
      },
      "outputs": [],
      "source": [
        "!pip install -q pyngrok"
      ]
    },
    {
      "cell_type": "code",
      "source": [
        "!pip install -q streamlit\n",
        "!pip install -q streamlit_ace"
      ],
      "metadata": {
        "id": "pwYdtLRTA4fV"
      },
      "execution_count": 18,
      "outputs": []
    },
    {
      "cell_type": "code",
      "source": [
        "!streamlit run app.py &>/dev/null&"
      ],
      "metadata": {
        "id": "jjyaxhPtA--V"
      },
      "execution_count": 19,
      "outputs": []
    },
    {
      "cell_type": "code",
      "source": [
        "!pip install fuzzywuzzy[speedup]"
      ],
      "metadata": {
        "colab": {
          "base_uri": "https://localhost:8080/"
        },
        "id": "87Z7q-waBD43",
        "outputId": "eac46b8e-b007-450b-929e-f3dc34d03721"
      },
      "execution_count": 20,
      "outputs": [
        {
          "output_type": "stream",
          "name": "stdout",
          "text": [
            "Looking in indexes: https://pypi.org/simple, https://us-python.pkg.dev/colab-wheels/public/simple/\n",
            "Requirement already satisfied: fuzzywuzzy[speedup] in /usr/local/lib/python3.7/dist-packages (0.18.0)\n",
            "Requirement already satisfied: python-levenshtein>=0.12 in /usr/local/lib/python3.7/dist-packages (from fuzzywuzzy[speedup]) (0.12.2)\n",
            "Requirement already satisfied: setuptools in /usr/local/lib/python3.7/dist-packages (from python-levenshtein>=0.12->fuzzywuzzy[speedup]) (57.4.0)\n"
          ]
        }
      ]
    },
    {
      "cell_type": "code",
      "source": [
        "%%writefile app.py\n",
        "import streamlit as st\n",
        "import json\n",
        "import requests as req\n",
        "from fuzzywuzzy import process\n",
        "from fuzzywuzzy import fuzz\n",
        "from pyngrok import ngrok\n",
        "\n",
        "def main():\n",
        "    html_temp = \"\"\"\n",
        "    <body style=\"background-color:black\">\n",
        "    <div style =\"background-image:linear-gradient(to right,#33ccff,yellow);padding:13px;border-radius:25px;\"> \n",
        "    <h1 style =\"color:white;text-align:center;\">Emails Fake</h1> \n",
        "    </div>\n",
        "    <br/>\n",
        "    </body> \n",
        "    \"\"\"\n",
        "    st.markdown(html_temp, unsafe_allow_html=True)\n",
        "\n",
        "    item = st.text_input('Item')\n",
        "\n",
        "    def verificarNome(item):\n",
        "      res = req.get('https://emgabrielly.github.io/emails.json')\n",
        "      dict = res.json()['emails']\n",
        "      lista_fuzzy = process.extract(item, dict)\n",
        "      \n",
        "      resultado = []\n",
        "\n",
        "      for sublista in lista_fuzzy:\n",
        "          if sublista[1] > 78:\n",
        "            resultado.append(sublista)\n",
        "      if len(resultado) >= 1:\n",
        "        st.success('Atenção, esse email é um spam')\n",
        "    \n",
        "    if st.button(\"Verificar\"):\n",
        "      verificarNome(item)\n",
        "\n",
        "if __name__ == '__main__':\n",
        "    main()"
      ],
      "metadata": {
        "colab": {
          "base_uri": "https://localhost:8080/"
        },
        "id": "rgcpg0cMBFy9",
        "outputId": "800d9e97-1422-4f9d-feb6-e18575de7375"
      },
      "execution_count": 21,
      "outputs": [
        {
          "output_type": "stream",
          "name": "stdout",
          "text": [
            "Overwriting app.py\n"
          ]
        }
      ]
    },
    {
      "cell_type": "code",
      "source": [
        "!streamlit run app.py & npx localtunnel --port 8501"
      ],
      "metadata": {
        "colab": {
          "base_uri": "https://localhost:8080/"
        },
        "id": "egL5mCVrBJDf",
        "outputId": "ab7b9400-2d62-42a5-ef74-7fcb6287dfb3"
      },
      "execution_count": 22,
      "outputs": [
        {
          "output_type": "stream",
          "name": "stdout",
          "text": [
            "2022-08-03 23:50:37.011 INFO    numexpr.utils: NumExpr defaulting to 2 threads.\n",
            "\u001b[K\u001b[?25hnpx: installed 22 in 2.77s\n",
            "\u001b[0m\n",
            "\u001b[34m\u001b[1m  You can now view your Streamlit app in your browser.\u001b[0m\n",
            "\u001b[0m\n",
            "\u001b[34m  Network URL: \u001b[0m\u001b[1mhttp://172.28.0.2:8502\u001b[0m\n",
            "\u001b[34m  External URL: \u001b[0m\u001b[1mhttp://34.125.143.241:8502\u001b[0m\n",
            "\u001b[0m\n",
            "your url is: https://dark-moose-check-34-125-143-241.loca.lt\n",
            "\u001b[34m  Stopping...\u001b[0m\n",
            "^C\n"
          ]
        }
      ]
    }
  ]
}